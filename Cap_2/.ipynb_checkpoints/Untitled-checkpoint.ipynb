{
 "cells": [
  {
   "cell_type": "code",
   "execution_count": 1,
   "id": "125075d7",
   "metadata": {},
   "outputs": [
    {
     "name": "stdout",
     "output_type": "stream",
     "text": [
      "oi\n"
     ]
    }
   ],
   "source": [
    "print(\"oi\")\n",
    "\n",
    "# Executa-se um programa no jupyter notebook pressionando Shift-Enter.\n",
    "# O jupyter notebook é iniciado executando jupyter notebook no terminal"
   ]
  },
  {
   "cell_type": "code",
   "execution_count": null,
   "id": "544e8351",
   "metadata": {},
   "outputs": [],
   "source": []
  }
 ],
 "metadata": {
  "kernelspec": {
   "display_name": "Python 3 (ipykernel)",
   "language": "python",
   "name": "python3"
  },
  "language_info": {
   "codemirror_mode": {
    "name": "ipython",
    "version": 3
   },
   "file_extension": ".py",
   "mimetype": "text/x-python",
   "name": "python",
   "nbconvert_exporter": "python",
   "pygments_lexer": "ipython3",
   "version": "3.9.7"
  }
 },
 "nbformat": 4,
 "nbformat_minor": 5
}
